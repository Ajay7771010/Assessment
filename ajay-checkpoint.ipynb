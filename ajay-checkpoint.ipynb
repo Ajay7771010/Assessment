{
 "cells": [
  {
   "cell_type": "markdown",
   "id": "0f50e0bd",
   "metadata": {},
   "source": [
    "# Importing required Libraries"
   ]
  },
  {
   "cell_type": "code",
   "execution_count": 24,
   "id": "18799d4f",
   "metadata": {},
   "outputs": [],
   "source": [
    "import pandas as pd\n",
    "import json"
   ]
  },
  {
   "cell_type": "markdown",
   "id": "aa5caff3",
   "metadata": {},
   "source": [
    "# Reading the CSV file"
   ]
  },
  {
   "cell_type": "code",
   "execution_count": 25,
   "id": "c7ba7450",
   "metadata": {},
   "outputs": [],
   "source": [
    "df = pd.read_csv('StudentsPerformance.csv')"
   ]
  },
  {
   "cell_type": "markdown",
   "id": "3a19b7d4",
   "metadata": {},
   "source": [
    "# Creating summary of the data"
   ]
  },
  {
   "cell_type": "code",
   "execution_count": 26,
   "id": "ce5484c1",
   "metadata": {},
   "outputs": [
    {
     "data": {
      "text/html": [
       "<div>\n",
       "<style scoped>\n",
       "    .dataframe tbody tr th:only-of-type {\n",
       "        vertical-align: middle;\n",
       "    }\n",
       "\n",
       "    .dataframe tbody tr th {\n",
       "        vertical-align: top;\n",
       "    }\n",
       "\n",
       "    .dataframe thead th {\n",
       "        text-align: right;\n",
       "    }\n",
       "</style>\n",
       "<table border=\"1\" class=\"dataframe\">\n",
       "  <thead>\n",
       "    <tr style=\"text-align: right;\">\n",
       "      <th></th>\n",
       "      <th>gender</th>\n",
       "      <th>race/ethnicity</th>\n",
       "      <th>parental level of education</th>\n",
       "      <th>lunch</th>\n",
       "      <th>test preparation course</th>\n",
       "      <th>math score</th>\n",
       "      <th>reading score</th>\n",
       "      <th>writing score</th>\n",
       "    </tr>\n",
       "  </thead>\n",
       "  <tbody>\n",
       "    <tr>\n",
       "      <th>0</th>\n",
       "      <td>female</td>\n",
       "      <td>group B</td>\n",
       "      <td>bachelor's degree</td>\n",
       "      <td>standard</td>\n",
       "      <td>none</td>\n",
       "      <td>72</td>\n",
       "      <td>72</td>\n",
       "      <td>74</td>\n",
       "    </tr>\n",
       "    <tr>\n",
       "      <th>1</th>\n",
       "      <td>female</td>\n",
       "      <td>group C</td>\n",
       "      <td>some college</td>\n",
       "      <td>standard</td>\n",
       "      <td>completed</td>\n",
       "      <td>69</td>\n",
       "      <td>90</td>\n",
       "      <td>88</td>\n",
       "    </tr>\n",
       "    <tr>\n",
       "      <th>2</th>\n",
       "      <td>female</td>\n",
       "      <td>group B</td>\n",
       "      <td>master's degree</td>\n",
       "      <td>standard</td>\n",
       "      <td>none</td>\n",
       "      <td>90</td>\n",
       "      <td>95</td>\n",
       "      <td>93</td>\n",
       "    </tr>\n",
       "    <tr>\n",
       "      <th>3</th>\n",
       "      <td>male</td>\n",
       "      <td>group A</td>\n",
       "      <td>associate's degree</td>\n",
       "      <td>free/reduced</td>\n",
       "      <td>none</td>\n",
       "      <td>47</td>\n",
       "      <td>57</td>\n",
       "      <td>44</td>\n",
       "    </tr>\n",
       "    <tr>\n",
       "      <th>4</th>\n",
       "      <td>male</td>\n",
       "      <td>group C</td>\n",
       "      <td>some college</td>\n",
       "      <td>standard</td>\n",
       "      <td>none</td>\n",
       "      <td>76</td>\n",
       "      <td>78</td>\n",
       "      <td>75</td>\n",
       "    </tr>\n",
       "  </tbody>\n",
       "</table>\n",
       "</div>"
      ],
      "text/plain": [
       "   gender race/ethnicity parental level of education         lunch  \\\n",
       "0  female        group B           bachelor's degree      standard   \n",
       "1  female        group C                some college      standard   \n",
       "2  female        group B             master's degree      standard   \n",
       "3    male        group A          associate's degree  free/reduced   \n",
       "4    male        group C                some college      standard   \n",
       "\n",
       "  test preparation course  math score  reading score  writing score  \n",
       "0                    none          72             72             74  \n",
       "1               completed          69             90             88  \n",
       "2                    none          90             95             93  \n",
       "3                    none          47             57             44  \n",
       "4                    none          76             78             75  "
      ]
     },
     "execution_count": 26,
     "metadata": {},
     "output_type": "execute_result"
    }
   ],
   "source": [
    "df.head()"
   ]
  },
  {
   "cell_type": "code",
   "execution_count": 27,
   "id": "6b2b2f85",
   "metadata": {},
   "outputs": [],
   "source": [
    "summary = {}"
   ]
  },
  {
   "cell_type": "code",
   "execution_count": 17,
   "id": "7bce5930",
   "metadata": {},
   "outputs": [],
   "source": [
    "summary['Gender'] = ((df.groupby('gender')[['math score','reading score','writing score']].mean()).T).to_dict()"
   ]
  },
  {
   "cell_type": "code",
   "execution_count": 18,
   "id": "23aa8d8d",
   "metadata": {},
   "outputs": [],
   "source": [
    "summary['Race/Ethnicity'] = ((df.groupby('race/ethnicity')[['math score','reading score','writing score']].mean()).T).to_dict()"
   ]
  },
  {
   "cell_type": "code",
   "execution_count": 19,
   "id": "4c1ee8e2",
   "metadata": {},
   "outputs": [],
   "source": [
    "summary['Parental level of education'] = ((df.groupby('parental level of education')[['math score','reading score','writing score']].mean()).T).to_dict()"
   ]
  },
  {
   "cell_type": "code",
   "execution_count": 20,
   "id": "0c751d29",
   "metadata": {},
   "outputs": [],
   "source": [
    "summary['Lunch'] = ((df.groupby('lunch')[['math score','reading score','writing score']].mean()).T).to_dict()"
   ]
  },
  {
   "cell_type": "code",
   "execution_count": 21,
   "id": "ccb98c86",
   "metadata": {},
   "outputs": [],
   "source": [
    "summary['Test preparation course'] = ((df.groupby('test preparation course')[['math score','reading score','writing score']].mean()).T).to_dict()"
   ]
  },
  {
   "cell_type": "markdown",
   "id": "7c1477b7",
   "metadata": {},
   "source": [
    "# Creating output json file"
   ]
  },
  {
   "cell_type": "code",
   "execution_count": 22,
   "id": "90431869",
   "metadata": {},
   "outputs": [],
   "source": [
    "summary_json = json.dumps(summary , indent=3)"
   ]
  },
  {
   "cell_type": "markdown",
   "id": "fb7d5762",
   "metadata": {},
   "source": [
    "# Writing the json file"
   ]
  },
  {
   "cell_type": "code",
   "execution_count": 23,
   "id": "831110c9",
   "metadata": {},
   "outputs": [],
   "source": [
    "with open(\"summary.json\", \"w\") as f:\n",
    "    f.write(summary_json)"
   ]
  },
  {
   "cell_type": "code",
   "execution_count": 28,
   "id": "74df2613",
   "metadata": {
    "scrolled": true
   },
   "outputs": [
    {
     "data": {
      "text/plain": [
       "'{\\n   \"Gender\": {\\n      \"female\": {\\n         \"math score\": 63.633204633204635,\\n         \"reading score\": 72.60810810810811,\\n         \"writing score\": 72.46718146718146\\n      },\\n      \"male\": {\\n         \"math score\": 68.72821576763485,\\n         \"reading score\": 65.47302904564316,\\n         \"writing score\": 63.31120331950208\\n      }\\n   },\\n   \"Race/Ethnicity\": {\\n      \"group A\": {\\n         \"math score\": 61.62921348314607,\\n         \"reading score\": 64.67415730337079,\\n         \"writing score\": 62.674157303370784\\n      },\\n      \"group B\": {\\n         \"math score\": 63.45263157894737,\\n         \"reading score\": 67.35263157894737,\\n         \"writing score\": 65.6\\n      },\\n      \"group C\": {\\n         \"math score\": 64.46394984326018,\\n         \"reading score\": 69.10344827586206,\\n         \"writing score\": 67.82758620689656\\n      },\\n      \"group D\": {\\n         \"math score\": 67.36259541984732,\\n         \"reading score\": 70.03053435114504,\\n         \"writing score\": 70.14503816793894\\n      },\\n      \"group E\": {\\n         \"math score\": 73.82142857142857,\\n         \"reading score\": 73.02857142857142,\\n         \"writing score\": 71.40714285714286\\n      }\\n   },\\n   \"Parental level of education\": {\\n      \"associate\\'s degree\": {\\n         \"math score\": 67.88288288288288,\\n         \"reading score\": 70.92792792792793,\\n         \"writing score\": 69.8963963963964\\n      },\\n      \"bachelor\\'s degree\": {\\n         \"math score\": 69.38983050847457,\\n         \"reading score\": 73.0,\\n         \"writing score\": 73.38135593220339\\n      },\\n      \"high school\": {\\n         \"math score\": 62.13775510204081,\\n         \"reading score\": 64.70408163265306,\\n         \"writing score\": 62.44897959183673\\n      },\\n      \"master\\'s degree\": {\\n         \"math score\": 69.7457627118644,\\n         \"reading score\": 75.37288135593221,\\n         \"writing score\": 75.67796610169492\\n      },\\n      \"some college\": {\\n         \"math score\": 67.1283185840708,\\n         \"reading score\": 69.46017699115045,\\n         \"writing score\": 68.84070796460178\\n      },\\n      \"some high school\": {\\n         \"math score\": 63.497206703910614,\\n         \"reading score\": 66.93854748603351,\\n         \"writing score\": 64.88826815642459\\n      }\\n   },\\n   \"Lunch\": {\\n      \"free/reduced\": {\\n         \"math score\": 58.92112676056338,\\n         \"reading score\": 64.65352112676057,\\n         \"writing score\": 63.02253521126761\\n      },\\n      \"standard\": {\\n         \"math score\": 70.03410852713178,\\n         \"reading score\": 71.65426356589147,\\n         \"writing score\": 70.8232558139535\\n      }\\n   },\\n   \"Test preparation course\": {\\n      \"completed\": {\\n         \"math score\": 69.69553072625699,\\n         \"reading score\": 73.89385474860335,\\n         \"writing score\": 74.41899441340782\\n      },\\n      \"none\": {\\n         \"math score\": 64.0778816199377,\\n         \"reading score\": 66.53426791277259,\\n         \"writing score\": 64.50467289719626\\n      }\\n   }\\n}'"
      ]
     },
     "execution_count": 28,
     "metadata": {},
     "output_type": "execute_result"
    }
   ],
   "source": [
    "summary_json"
   ]
  },
  {
   "cell_type": "code",
   "execution_count": null,
   "id": "worst-discussion",
   "metadata": {},
   "outputs": [],
   "source": []
  }
 ],
 "metadata": {
  "kernelspec": {
   "display_name": "Python 3",
   "language": "python",
   "name": "python3"
  },
  "language_info": {
   "codemirror_mode": {
    "name": "ipython",
    "version": 3
   },
   "file_extension": ".py",
   "mimetype": "text/x-python",
   "name": "python",
   "nbconvert_exporter": "python",
   "pygments_lexer": "ipython3",
   "version": "3.8.5"
  }
 },
 "nbformat": 4,
 "nbformat_minor": 5
}
